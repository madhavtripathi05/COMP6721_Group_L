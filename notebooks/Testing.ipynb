{
 "cells": [
  {
   "cell_type": "code",
   "execution_count": 82,
   "id": "cf42db34",
   "metadata": {},
   "outputs": [
    {
     "name": "stdout",
     "output_type": "stream",
     "text": [
      "Device: mps\n",
      "tensor([[1., 0., 0., 0., 0., 0., 0., 0., 0., 1.]], device='mps:0',\n",
      "       grad_fn=<SigmoidBackward0>)\n",
      "Image predicted as  Forest\n"
     ]
    }
   ],
   "source": [
    "import os\n",
    "import torch\n",
    "import torchvision\n",
    "import tarfile\n",
    "import torch.nn as nn\n",
    "import numpy as np\n",
    "import torch.nn.functional as F\n",
    "from torchvision.datasets.utils import download_url\n",
    "from torchvision.datasets import ImageFolder\n",
    "from torch.utils.data import DataLoader\n",
    "import torchvision.transforms as transforms\n",
    "from torch.utils.data import random_split\n",
    "from torchvision.utils import make_grid\n",
    "import matplotlib\n",
    "from torch.utils.data import Dataset, DataLoader\n",
    "import matplotlib.pyplot as plt\n",
    "import glob\n",
    "import torch.optim as optim\n",
    "import time\n",
    "from torchvision import transforms as T, models\n",
    "\n",
    "import torchvision\n",
    "import torchvision.transforms as transforms\n",
    "from torch.autograd import Variable\n",
    "from PIL import Image, ImageOps, ImageEnhance\n",
    "\n",
    "import cv2\n",
    "%matplotlib inline\n",
    "\n",
    "d = \"cpu\"\n",
    "if torch.backends.mps.is_available() and torch.backends.mps.is_built():\n",
    "    d = \"mps\"\n",
    "elif torch.cuda.is_available():\n",
    "    d = \"cuda:0\"\n",
    "device = torch.device(d)\n",
    "\n",
    "print(\"Device: {}\".format(device))\n",
    "\n",
    "sat_map ={0:\"AnnualCrop\", 1:\"Forest\",2:\"HerbaceousVegetation\",3:\"Highway\",4:\"Industrial\",5:\"Pasture\",6:\"PermanentCrop\",7:\"Residential\",8:\"River\",9:\"SeaLake\"}\n",
    "# rsicb_map={0:\"cloudy\",1:\"desert\",2:\"green_area\",3:\"water\"}\n",
    "model = torch.load(\"./eurosat-resnet_new.pth\")\n",
    "model.eval()\n",
    "transform = transforms.Compose([transforms.ToTensor()])\n",
    "\n",
    "img = Image.open('Archive/EuroSAT/Forest/Forest_1.jpg')  # Load image as PIL.Image\n",
    "x = transform(img)  # Preprocess image\n",
    "x = x.unsqueeze(0)  # Add batch dimension\n",
    "x=x.to(device)\n",
    "output = model(x)  # Forward pass\n",
    "pred = torch.argmax(output, 1)  # Get predicted class if multi-class classification\n",
    "print(output)\n",
    "pred = output.detach().cpu().tolist()[0]\n",
    "\n",
    "\n",
    "print('Image predicted as ', sat_map[pred[0]])"
   ]
  },
  {
   "cell_type": "code",
   "execution_count": null,
   "id": "139726cf",
   "metadata": {},
   "outputs": [],
   "source": []
  }
 ],
 "metadata": {
  "kernelspec": {
   "display_name": "Python 3 (ipykernel)",
   "language": "python",
   "name": "python3"
  },
  "language_info": {
   "codemirror_mode": {
    "name": "ipython",
    "version": 3
   },
   "file_extension": ".py",
   "mimetype": "text/x-python",
   "name": "python",
   "nbconvert_exporter": "python",
   "pygments_lexer": "ipython3",
   "version": "3.9.13"
  }
 },
 "nbformat": 4,
 "nbformat_minor": 5
}
