{
 "cells": [
  {
   "cell_type": "code",
   "execution_count": 1,
   "id": "3c759cce",
   "metadata": {},
   "outputs": [],
   "source": [
    "import torch\n",
    "import torchvision.transforms as transforms\n",
    "import torchvision.datasets as datasets\n",
    "import torch.utils.data as td\n",
    "import numpy as np\n",
    "import matplotlib.pyplot as plt\n",
    "import torch.nn as nn\n",
    "import torch.nn.functional as F\n",
    "from matplotlib import image\n",
    "from matplotlib import pyplot\n",
    "from torch.utils.data import Dataset, DataLoader,random_split\n",
    "from torchvision import models\n",
    "import time\n",
    "import glob\n",
    "import PIL\n",
    "import os\n",
    "from PIL import Image"
   ]
  },
  {
   "cell_type": "code",
   "execution_count": 2,
   "id": "ed36025c",
   "metadata": {},
   "outputs": [],
   "source": [
    "DATA_PATH='RSI-CB256/data'\n",
    "\n",
    "# Defining image transformations\n",
    "transform = transforms.Compose(\n",
    "    [transforms.RandomHorizontalFlip(),\n",
    "    transforms.ToTensor(),\n",
    "    transforms.Resize((64,64)),\n",
    "    # Normalize the image\n",
    "    transforms.Normalize(mean=[0.4914, 0.4822, 0.4465], std=[0.2023, 0.1994, 0.2010])]\n",
    "    )\n"
   ]
  },
  {
   "cell_type": "code",
   "execution_count": 3,
   "id": "298b1573",
   "metadata": {},
   "outputs": [],
   "source": [
    "# Defining hyperparameters\n",
    "batch_size = 32\n",
    "num_epochs = 10\n",
    "learning_rate = 0.0003"
   ]
  },
  {
   "cell_type": "code",
   "execution_count": 4,
   "id": "02ffcac1",
   "metadata": {},
   "outputs": [
    {
     "name": "stdout",
     "output_type": "stream",
     "text": [
      "Dataset has 5631 data points.\n",
      "Train Dataset has 4504 data points\n",
      "Test Dataset has 1127 data points.\n"
     ]
    }
   ],
   "source": [
    "data = datasets.ImageFolder(DATA_PATH, transform = transform) # Fetching dataset from folder\n",
    "\n",
    "# train-test split\n",
    "train_size = int(0.80 * len(data)) \n",
    "test_size = len(data) - train_size\n",
    "train_dataset, test_dataset = random_split(data, [train_size, test_size])\n",
    "\n",
    "\n",
    "print(f\"Dataset has {len(data)} data points.\")\n",
    "print(f\"Train Dataset has {len(train_dataset)} data points\")\n",
    "print(f\"Test Dataset has {len(test_dataset)} data points.\") "
   ]
  },
  {
   "cell_type": "code",
   "execution_count": 5,
   "id": "c03722b2",
   "metadata": {},
   "outputs": [],
   "source": [
    "train_loader = DataLoader(train_dataset, batch_size= batch_size, shuffle= True)\n",
    "test_loader = DataLoader(test_dataset, batch_size= batch_size, shuffle= False)"
   ]
  },
  {
   "cell_type": "code",
   "execution_count": 6,
   "id": "2ea49096",
   "metadata": {},
   "outputs": [],
   "source": [
    "# # Visualizing data distrubitons accordin to classes\n",
    "# class_names_train = os.listdir(DATA_PATH)\n",
    "\n",
    "# image_count = {}\n",
    "# for i in class_names_train:\n",
    "#     image_count[i] = len(os.listdir(os.path.join(DATA_PATH,i))) - 1\n",
    "\n",
    "    \n",
    "# # Plotting Distribution of Each Classes\n",
    "# fig1, ax1 = plt.subplots(figsize=(10, 10), subplot_kw=dict(aspect=\"equal\"))\n",
    "# ax1.pie(image_count.values(),\n",
    "#         labels = image_count.keys(),\n",
    "#         shadow=True,\n",
    "#         textprops=dict(color=\"black\"),\n",
    "#         autopct = '%1.1f%%',\n",
    "#         startangle=90)\n",
    "# plt.title(\"Dataset Classes Distribution Chart\", color='black')\n",
    "# plt.show()\n",
    "# print(image_count)"
   ]
  },
  {
   "cell_type": "code",
   "execution_count": 7,
   "id": "69769d00",
   "metadata": {},
   "outputs": [
    {
     "name": "stdout",
     "output_type": "stream",
     "text": [
      "Device: cuda:0\n"
     ]
    }
   ],
   "source": [
    "# Defining Model\n",
    "model = models.resnet18()\n",
    "\n",
    "for param in model.parameters():\n",
    "    param.require_grad = False\n",
    "    \n",
    "fc = nn.Sequential(\n",
    "    nn.AdaptiveMaxPool2d(1), \n",
    "    nn.Flatten(), \n",
    "    nn.Dropout(0.2),\n",
    "    nn.Linear(512, 5)\n",
    ")\n",
    "\n",
    "model.classifier = fc\n",
    "device = torch.device(\"cuda:0\" if torch.cuda.is_available() else \"cpu\")\n",
    "print(\"Device: {}\".format(device))\n",
    "model.to(device)\n",
    "\n",
    "# Define the loss function and optimizer\n",
    "\n",
    "criterion = nn.CrossEntropyLoss()\n",
    "optimizer = torch.optim.Adam(model.parameters(), lr=learning_rate)"
   ]
  },
  {
   "cell_type": "code",
   "execution_count": 8,
   "id": "3dcbb925",
   "metadata": {},
   "outputs": [
    {
     "name": "stdout",
     "output_type": "stream",
     "text": [
      "Epoch [1/10], Step [140/141], Loss: 0.4076, Accuracy: 90.62%\n",
      "Epoch [2/10], Step [140/141], Loss: 0.4666, Accuracy: 78.12%\n",
      "Epoch [3/10], Step [140/141], Loss: 0.1024, Accuracy: 100.00%\n",
      "Epoch [4/10], Step [140/141], Loss: 0.0659, Accuracy: 100.00%\n",
      "Epoch [5/10], Step [140/141], Loss: 0.2355, Accuracy: 93.75%\n",
      "Epoch [6/10], Step [140/141], Loss: 0.2282, Accuracy: 93.75%\n",
      "Epoch [7/10], Step [140/141], Loss: 0.4024, Accuracy: 81.25%\n",
      "Epoch [8/10], Step [140/141], Loss: 0.3880, Accuracy: 81.25%\n",
      "Epoch [9/10], Step [140/141], Loss: 0.1283, Accuracy: 96.88%\n",
      "Epoch [10/10], Step [140/141], Loss: 0.4201, Accuracy: 84.38%\n",
      "######## Training Finished in 231.16344213485718 seconds ###########\n"
     ]
    }
   ],
   "source": [
    "total_steps = len(train_loader)\n",
    "print_every= len(train_loader) - 1\n",
    "t1 = time.time()\n",
    "Accuracies = []\n",
    "for epoch in range(num_epochs):\n",
    "    for i, data in enumerate(train_loader):\n",
    "        images, labels = data[0].to(device), data[1].to(device)\n",
    "        # Forward pass\n",
    "        outputs = model(images)\n",
    "        loss = criterion(outputs, labels)\n",
    "        # Backprop and optimisation\n",
    "        optimizer.zero_grad()\n",
    "        loss.backward()\n",
    "        optimizer.step()\n",
    "        # Train accuracy\n",
    "        total = labels.size(0)\n",
    "        _,predicted = torch.max(outputs.data, 1)\n",
    "        correct = (predicted == labels).sum().item()\n",
    "        if (i+1) % print_every == 0:\n",
    "            Accuracies.append(round((correct/total)*100, 2))\n",
    "            print('Epoch [{}/{}], Step [{}/{}], Loss: {:.4f}, Accuracy: {:.2f}%'\n",
    "                .format(epoch + 1, num_epochs, i + 1, total_steps, loss.item(),\n",
    "                    (correct / total) * 100))\n",
    "            \n",
    "print(\"######## Training Finished in {} seconds ###########\".format(time.time()-t1))"
   ]
  },
  {
   "cell_type": "code",
   "execution_count": 9,
   "id": "20e19dc1",
   "metadata": {},
   "outputs": [
    {
     "name": "stdout",
     "output_type": "stream",
     "text": [
      "Test Accuracy of the model on the 1127 test images: 72.67080745341616 %\n"
     ]
    }
   ],
   "source": [
    "# Calculating Test Accuracy\n",
    "model.eval() \n",
    "\n",
    "with torch.no_grad(): \n",
    "    correct = 0\n",
    "    total = 0\n",
    "    for data in test_loader:\n",
    "        images, labels = data[0].to(device), data[1].to(device)\n",
    "        outputs = model(images)\n",
    "        _, predicted = torch.max(outputs.data, 1)\n",
    "        total += labels.size(0)\n",
    "        correct += (predicted == labels).sum().item()\n",
    "    print('Test Accuracy of the model on the {} test images: {} %'\n",
    "        .format(total, (correct / total) * 100))"
   ]
  },
  {
   "cell_type": "code",
   "execution_count": 18,
   "id": "c00070ed",
   "metadata": {},
   "outputs": [],
   "source": [
    "# total_step = len(train_loader)\n",
    "# import time\n",
    "# print_every = len(train_loader) - 1\n",
    "# loss_values = []\n",
    "# start_time = time.time()\n",
    "# total_step = len(train_loader)\n",
    "# epoch_times = []\n",
    "\n",
    "# # Training \n",
    "# for epoch in range(num_epochs):\n",
    "#     for i, (images, labels) in enumerate(train_loader): \n",
    "#         epoch_start_time = time.time()\n",
    "#         running_loss = 0.0\n",
    "#         images = images.to(device)\n",
    "#         labels = labels.to(device)\n",
    "        \n",
    "#         outputs = model(images)\n",
    "#         loss = criterion(outputs, labels)\n",
    "        \n",
    "#         optimizer.zero_grad()\n",
    "#         loss.backward()\n",
    "#         optimizer.step()\n",
    "#         running_loss += loss.item() \n",
    "#         if (i+1) % print_every == 0:\n",
    "#             epoch_times.append(time.time() - epoch_start_time)\n",
    "#             loss_values.append(running_loss / print_every)\n",
    "#             print ('Epoch [{}/{}], Step [{}/{}], Loss: {:.4f}: Batch Loss : {}' \n",
    "#                    .format(epoch+1, num_epochs, i+1, total_step, loss.item(), running_loss / print_every))\n",
    "#             running_loss = 0\n",
    "# end_of_training = time.time() - start_time\n",
    "\n",
    "\n",
    "\n",
    "# arr_pred = np.empty((0,len(test_dataset)), int)\n",
    "\n",
    "# arr_label = np.empty((0,len(test_dataset)), int)\n",
    "\n",
    "# # Prediction\n",
    "# with torch.no_grad(): \n",
    "#     correct = 0\n",
    "#     total = 0\n",
    "#     for images, labels in test_loader: \n",
    "#         images = images.to(device)\n",
    "#         labels = labels.to(device)\n",
    "#         outputs = model(images)\n",
    "#         _, predicted = torch.max(outputs.data, 1)\n",
    "        \n",
    "#         total += labels.size(0)\n",
    "#         correct += (predicted == labels).sum().item()\n",
    "#         pred = predicted.cpu().numpy()\n",
    "#         lb = labels.cpu().numpy()\n",
    "#         arr_pred = np.append(arr_pred, pred)\n",
    "#         arr_label = np.append(arr_label, lb)\n",
    "        \n",
    "#     print('Test Accuracy of the model on the ' + str(len(test_dataset)) + ' test images: {} %'.format(100 * correct / total))"
   ]
  },
  {
   "cell_type": "code",
   "execution_count": null,
   "id": "ec892c56",
   "metadata": {},
   "outputs": [],
   "source": []
  }
 ],
 "metadata": {
  "kernelspec": {
   "display_name": "Python 3",
   "language": "python",
   "name": "python3"
  },
  "language_info": {
   "codemirror_mode": {
    "name": "ipython",
    "version": 3
   },
   "file_extension": ".py",
   "mimetype": "text/x-python",
   "name": "python",
   "nbconvert_exporter": "python",
   "pygments_lexer": "ipython3",
   "version": "3.9.13"
  }
 },
 "nbformat": 4,
 "nbformat_minor": 5
}
